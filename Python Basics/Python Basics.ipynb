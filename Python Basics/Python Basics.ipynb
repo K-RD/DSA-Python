{
 "cells": [
  {
   "cell_type": "markdown",
   "id": "22bf2e35-3333-419e-987c-5ebcc1290e65",
   "metadata": {},
   "source": [
    "\n",
    "### **1. Hello, World!**\n",
    "- **Task:** Write a Python program that prints \"Hello, World!\" to the console."
   ]
  },
  {
   "cell_type": "code",
   "execution_count": 1,
   "id": "9ef041fd-db0b-4e85-b5c8-d7b3e7a505af",
   "metadata": {},
   "outputs": [
    {
     "data": {
      "text/plain": [
       "'Hello Robind'"
      ]
     },
     "execution_count": 1,
     "metadata": {},
     "output_type": "execute_result"
    }
   ],
   "source": [
    "def hello(name):\n",
    "    return f\"Hello {name}\"\n",
    "\n",
    "hello(\"Robind\")"
   ]
  },
  {
   "cell_type": "markdown",
   "id": "0d0440d0-dd10-4040-80ab-63e3b7874e72",
   "metadata": {},
   "source": [
    "### **2. Variables and Basic Operations**\n",
    "- **Task:** Create two variables `a` and `b`, assign them numerical values, and perform the following operations:\n",
    "  - [ ] Addition\n",
    "  - [ ] Subtraction\n",
    "  - [ ] Multiplication\n",
    "  - [ ] Division\n",
    "- **Goal:** Print the results of each operation."
   ]
  },
  {
   "cell_type": "code",
   "execution_count": 3,
   "id": "1ac5ee2f-7974-429f-83e1-7f8b6c1dcedc",
   "metadata": {},
   "outputs": [
    {
     "name": "stdout",
     "output_type": "stream",
     "text": [
      "x + y =  15\n",
      "x - y =  5\n",
      "x * y =  50\n",
      "x / y =  2.0\n"
     ]
    }
   ],
   "source": [
    "def addition(a,b):\n",
    "    return a+b\n",
    "\n",
    "def substraction(a,b):\n",
    "    return a-b\n",
    "\n",
    "def multiplication(a,b):\n",
    "    return a*b\n",
    "\n",
    "def divide(a,b):\n",
    "    return a/b\n",
    "\n",
    "x = 10\n",
    "y = 5\n",
    "print(\"x + y = \", addition(10,5))\n",
    "print(\"x - y = \", substraction(10,5))\n",
    "print(\"x * y = \", multiplication(10,5))\n",
    "print(\"x / y = \", divide(10,5))"
   ]
  },
  {
   "cell_type": "markdown",
   "id": "434f8a15-74d9-43f0-a01f-b9c333517b9b",
   "metadata": {},
   "source": [
    "### **3. Odd or Even Checker**\n",
    "- **Task:** Write a program that asks the user to input a number and determines whether the number is odd or even.\n"
   ]
  },
  {
   "cell_type": "code",
   "execution_count": 9,
   "id": "6f006c3e-d010-4a9f-9e6a-45d43fa1f422",
   "metadata": {},
   "outputs": [
    {
     "data": {
      "text/plain": [
       "'10 is odd number.'"
      ]
     },
     "execution_count": 9,
     "metadata": {},
     "output_type": "execute_result"
    }
   ],
   "source": [
    "def evenOdd(a):\n",
    "    if(a%2):\n",
    "        return f\"{a} is even number.\"\n",
    "    else:\n",
    "        return f\"{a} is odd number.\"\n",
    "\n",
    "evenOdd(x)"
   ]
  },
  {
   "cell_type": "markdown",
   "id": "426f3948-aa53-4592-bf7c-1deb6d83d165",
   "metadata": {},
   "source": [
    "### **4. Simple Interest Calculator**\n",
    "- **Task:** Calculate the simple interest for a given principal amount, rate of interest, and time period.\n",
    "- **Formula:** Simple Interest = (Principal × Rate × Time) / 100\n"
   ]
  },
  {
   "cell_type": "code",
   "execution_count": 11,
   "id": "22f699f7-cc03-4532-90b0-6e3d7038787d",
   "metadata": {},
   "outputs": [
    {
     "name": "stdout",
     "output_type": "stream",
     "text": [
      "Simple interest of 1000 at 8 % in 5 years is 400.0\n"
     ]
    }
   ],
   "source": [
    "def siCalculator(p,r,t):\n",
    "    return (p*r*t)/100\n",
    "\n",
    "p = 1000\n",
    "r = 8\n",
    "t = 5\n",
    "print(f\"Simple interest of {p} at {r} % in {t} years is {siCalculator(p,r,t)}\")"
   ]
  },
  {
   "cell_type": "markdown",
   "id": "07f93b41-8f08-4eb7-ab51-84678bc0d387",
   "metadata": {},
   "source": [
    "### **5. Area of a Circle**\n",
    "- **Task:** Write a program that calculates the area of a circle given its radius.\n",
    "- **Formula:** Area = π × radius²\n"
   ]
  },
  {
   "cell_type": "code",
   "execution_count": 13,
   "id": "c2da0943-3a5a-4181-9db0-a7dc3357f2e9",
   "metadata": {},
   "outputs": [
    {
     "data": {
      "text/plain": [
       "31415.926535897932"
      ]
     },
     "execution_count": 13,
     "metadata": {},
     "output_type": "execute_result"
    }
   ],
   "source": [
    "import math\n",
    "def circleArea(r):\n",
    "    return math.pi*r*r\n",
    "\n",
    "circleArea(100)"
   ]
  },
  {
   "cell_type": "markdown",
   "id": "ab29c838-62fa-4be1-be40-284f61ba79ea",
   "metadata": {},
   "source": [
    "### **6. Swap Two Variables**\n",
    "- **Task:** Swap the values of two variables without using a third variable.\n"
   ]
  },
  {
   "cell_type": "code",
   "execution_count": 16,
   "id": "a51ea351-1403-4eb0-976d-723103a807a6",
   "metadata": {},
   "outputs": [
    {
     "data": {
      "text/plain": [
       "(20, 10)"
      ]
     },
     "execution_count": 16,
     "metadata": {},
     "output_type": "execute_result"
    }
   ],
   "source": [
    "a = 10\n",
    "b = 20\n",
    "a,b = b,a\n",
    "\n",
    "a,b"
   ]
  },
  {
   "cell_type": "markdown",
   "id": "b0096187-425a-4109-afcc-5a5924b3a822",
   "metadata": {},
   "source": [
    "### **7. Maximum of Three Numbers**\n",
    "- **Task:** Write a function that takes three numbers and returns the largest one.\n"
   ]
  },
  {
   "cell_type": "code",
   "execution_count": 20,
   "id": "67f78694-3b1b-4392-9f52-53eeb70f5ffd",
   "metadata": {},
   "outputs": [
    {
     "data": {
      "text/plain": [
       "200"
      ]
     },
     "execution_count": 20,
     "metadata": {},
     "output_type": "execute_result"
    }
   ],
   "source": [
    "a,b,c = 100,40,200\n",
    "\n",
    "def maxInThree(a,b,c):\n",
    "    if(a > b & a > c):return a\n",
    "    elif(b > c):return b\n",
    "    else:return c\n",
    "\n",
    "maxInThree(a,b,c)"
   ]
  },
  {
   "cell_type": "markdown",
   "id": "91bf5201-3d89-45e0-9abc-041722b8f314",
   "metadata": {},
   "source": [
    "### **8. Factorial Calculation**\n",
    "- **Task:** Write a program to calculate the factorial of a given number using both iterative and recursive methods.\n",
    "\n",
    "1. factorial of 5 is 5 * 4 * 3 * 2 * 1\n",
    "2. !3 = 3 * 2 * 1\n"
   ]
  },
  {
   "cell_type": "code",
   "execution_count": 10,
   "id": "7f630ebc-c3c4-427c-b9a4-69034cc721db",
   "metadata": {},
   "outputs": [
    {
     "data": {
      "text/plain": [
       "(120, 120)"
      ]
     },
     "execution_count": 10,
     "metadata": {},
     "output_type": "execute_result"
    }
   ],
   "source": [
    "# Recursive function\n",
    "def factorial(a):\n",
    "    if(a==1):return 1\n",
    "    else:return(a*factorial(a-1))\n",
    "\n",
    "result1 = factorial(5)\n",
    "\n",
    "# Iterative function\n",
    "def factorialI(a):\n",
    "    res = 1\n",
    "    for i in range(1,a+1,1):\n",
    "        res = res * i\n",
    "    return res\n",
    "\n",
    "result2 = factorialI(5)\n",
    "\n",
    "result1,result2"
   ]
  },
  {
   "cell_type": "markdown",
   "id": "39d1cd80-ed5b-41d5-bc57-911bfeec7bcb",
   "metadata": {},
   "source": [
    "### **9. Fibonacci Sequence**\n",
    "- **Task:** Generate and print the Fibonacci sequence up to `n` terms, where `n` is provided by the user.\n"
   ]
  },
  {
   "cell_type": "code",
   "execution_count": 22,
   "id": "8b587208-36a6-4f2d-b3b8-57d3d438cbd2",
   "metadata": {},
   "outputs": [
    {
     "name": "stdin",
     "output_type": "stream",
     "text": [
      "Enter number of terms ::  20\n"
     ]
    },
    {
     "name": "stdout",
     "output_type": "stream",
     "text": [
      "0 1 1 2 3 5 8 13 21 34 55 89 144 233 377 610 987 1597 2584 "
     ]
    }
   ],
   "source": [
    "def fibonacci(x):\n",
    "    a = 0\n",
    "    b = 1\n",
    "    print(a,end=' ')\n",
    "    for i in range(2,x,1):\n",
    "        a,b = b,(a+b)\n",
    "        print(a,end=' ')\n",
    "\n",
    "\n",
    "n = int(input(\"Enter number of terms :: \"))\n",
    "fibonacci(n)"
   ]
  },
  {
   "cell_type": "markdown",
   "id": "76e8a197-c33a-458e-a4db-750bb0967772",
   "metadata": {},
   "source": [
    "### **10. Prime Number Checker**\n",
    "- **Task:** Write a function that checks whether a given number is a prime number.\n"
   ]
  },
  {
   "cell_type": "code",
   "execution_count": null,
   "id": "990dc2c9-3e9b-44f5-b658-f4cd36ce0cec",
   "metadata": {},
   "outputs": [],
   "source": []
  }
 ],
 "metadata": {
  "kernelspec": {
   "display_name": "Python 3 (ipykernel)",
   "language": "python",
   "name": "python3"
  },
  "language_info": {
   "codemirror_mode": {
    "name": "ipython",
    "version": 3
   },
   "file_extension": ".py",
   "mimetype": "text/x-python",
   "name": "python",
   "nbconvert_exporter": "python",
   "pygments_lexer": "ipython3",
   "version": "3.12.3"
  }
 },
 "nbformat": 4,
 "nbformat_minor": 5
}
